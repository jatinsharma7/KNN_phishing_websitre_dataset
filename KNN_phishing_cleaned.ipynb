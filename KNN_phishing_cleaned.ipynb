{
 "cells": [
  {
   "cell_type": "markdown",
   "metadata": {},
   "source": [
    "## Phishing Site Detection\n",
    "\n",
    "In the Pre processing of the Data the attributes are coded into following format for application of KNN Classifier \n",
    "\n",
    " \tSFH's type is nominal, range is ('1', '-1', '0')\n",
    " \tpopUpWidnow's type is nominal, range is ('-1', '0', '1')\n",
    " \tSSLfinal_State's type is nominal, range is ('1', '-1', '0')\n",
    " \tRequest_URL's type is nominal, range is ('-1', '0', '1')\n",
    " \tURL_of_Anchor's type is nominal, range is ('-1', '0', '1')\n",
    " \tweb_traffic's type is nominal, range is ('1', '0', '-1')\n",
    " \tURL_Length's type is nominal, range is ('1', '-1', '0')\n",
    " \tage_of_domain's type is nominal, range is ('1', '-1')\n",
    " \thaving_IP_Address's type is nominal, range is ('0', '1')\n",
    " \tResult's type is nominal, range is ('0', '1', '-1'))\n",
    "    \n",
    "    The  data coding is as follows:\n",
    "    \"1\"  - Legitimate Website\n",
    "    \"0\"  - Suspisious\n",
    "    \"-1\" - Malicious Website"
   ]
  },
  {
   "cell_type": "code",
   "execution_count": 1,
   "metadata": {
    "collapsed": true
   },
   "outputs": [],
   "source": [
    "your_local_path = 'C:\\\\Users\\\\jatsharm\\\\DataScience\\\\MachineLearning\\dataset\\\\'"
   ]
  },
  {
   "cell_type": "code",
   "execution_count": 2,
   "metadata": {},
   "outputs": [
    {
     "name": "stderr",
     "output_type": "stream",
     "text": [
      "C:\\ProgramData\\Anaconda3\\lib\\site-packages\\sklearn\\cross_validation.py:44: DeprecationWarning: This module was deprecated in version 0.18 in favor of the model_selection module into which all the refactored classes and functions are moved. Also note that the interface of the new CV iterators are different from that of this module. This module will be removed in 0.20.\n",
      "  \"This module will be removed in 0.20.\", DeprecationWarning)\n"
     ]
    }
   ],
   "source": [
    "import numpy as np\n",
    "from sklearn.neighbors import KNeighborsClassifier\n",
    "import pandas as pd\n",
    "from scipy.io.arff import loadarff\n",
    "from sklearn.model_selection import cross_val_score\n",
    "from sklearn.cross_validation import train_test_split\n",
    "from sklearn.metrics import classification_report,confusion_matrix,accuracy_score"
   ]
  },
  {
   "cell_type": "code",
   "execution_count": 3,
   "metadata": {
    "collapsed": true
   },
   "outputs": [],
   "source": [
    "phishing_data_raw = pd.read_csv(your_local_path+\"PhishingData.csv\")"
   ]
  },
  {
   "cell_type": "code",
   "execution_count": 4,
   "metadata": {},
   "outputs": [
    {
     "data": {
      "text/plain": [
       "(array([(b'1', b'-1', b'1', b'-1', b'-1', b'1', b'1', b'1', b'0', b'0'),\n",
       "        (b'-1', b'-1', b'-1', b'-1', b'-1', b'0', b'1', b'1', b'1', b'1'),\n",
       "        (b'1', b'-1', b'0', b'0', b'-1', b'0', b'-1', b'1', b'0', b'1'),\n",
       "        ...,\n",
       "        (b'-1', b'0', b'-1', b'-1', b'-1', b'0', b'-1', b'-1', b'0', b'1'),\n",
       "        (b'0', b'0', b'1', b'0', b'0', b'0', b'-1', b'1', b'0', b'1'),\n",
       "        (b'1', b'0', b'1', b'1', b'1', b'0', b'-1', b'-1', b'0', b'-1')], \n",
       "       dtype=[('SFH', 'S2'), ('popUpWidnow', 'S2'), ('SSLfinal_State', 'S2'), ('Request_URL', 'S2'), ('URL_of_Anchor', 'S2'), ('web_traffic', 'S2'), ('URL_Length', 'S2'), ('age_of_domain', 'S2'), ('having_IP_Address', 'S1'), ('Result', 'S2')]),\n",
       " Dataset: 'Phishing-weka.filters.supervised.attribute.AttributeSelection-Eweka.attributeSelection.InfoGainAttributeEval-Sweka.attributeSelection.Ranker\n",
       " \tSFH's type is nominal, range is ('1', '-1', '0')\n",
       " \tpopUpWidnow's type is nominal, range is ('-1', '0', '1')\n",
       " \tSSLfinal_State's type is nominal, range is ('1', '-1', '0')\n",
       " \tRequest_URL's type is nominal, range is ('-1', '0', '1')\n",
       " \tURL_of_Anchor's type is nominal, range is ('-1', '0', '1')\n",
       " \tweb_traffic's type is nominal, range is ('1', '0', '-1')\n",
       " \tURL_Length's type is nominal, range is ('1', '-1', '0')\n",
       " \tage_of_domain's type is nominal, range is ('1', '-1')\n",
       " \thaving_IP_Address's type is nominal, range is ('0', '1')\n",
       " \tResult's type is nominal, range is ('0', '1', '-1'))"
      ]
     },
     "execution_count": 4,
     "metadata": {},
     "output_type": "execute_result"
    }
   ],
   "source": [
    "phishing_data_raw"
   ]
  },
  {
   "cell_type": "code",
   "execution_count": 5,
   "metadata": {},
   "outputs": [
    {
     "data": {
      "text/plain": [
       "array([(b'1', b'-1', b'1', b'-1', b'-1', b'1', b'1', b'1', b'0', b'0'),\n",
       "       (b'-1', b'-1', b'-1', b'-1', b'-1', b'0', b'1', b'1', b'1', b'1'),\n",
       "       (b'1', b'-1', b'0', b'0', b'-1', b'0', b'-1', b'1', b'0', b'1'),\n",
       "       ...,\n",
       "       (b'-1', b'0', b'-1', b'-1', b'-1', b'0', b'-1', b'-1', b'0', b'1'),\n",
       "       (b'0', b'0', b'1', b'0', b'0', b'0', b'-1', b'1', b'0', b'1'),\n",
       "       (b'1', b'0', b'1', b'1', b'1', b'0', b'-1', b'-1', b'0', b'-1')], \n",
       "      dtype=[('SFH', 'S2'), ('popUpWidnow', 'S2'), ('SSLfinal_State', 'S2'), ('Request_URL', 'S2'), ('URL_of_Anchor', 'S2'), ('web_traffic', 'S2'), ('URL_Length', 'S2'), ('age_of_domain', 'S2'), ('having_IP_Address', 'S1'), ('Result', 'S2')])"
      ]
     },
     "execution_count": 5,
     "metadata": {},
     "output_type": "execute_result"
    }
   ],
   "source": [
    "# Selection of the Data and converting data into numpy format for flexibility in cleaning\n",
    "phising_data_array = np.array(phishing_data_raw[0])\n",
    "phising_data_array"
   ]
  },
  {
   "cell_type": "code",
   "execution_count": 6,
   "metadata": {},
   "outputs": [
    {
     "data": {
      "text/html": [
       "<div>\n",
       "<table border=\"1\" class=\"dataframe\">\n",
       "  <thead>\n",
       "    <tr style=\"text-align: right;\">\n",
       "      <th></th>\n",
       "      <th>SFH</th>\n",
       "      <th>popUpWidnow</th>\n",
       "      <th>SSLfinal_State</th>\n",
       "      <th>Request_URL</th>\n",
       "      <th>URL_of_Anchor</th>\n",
       "      <th>web_traffic</th>\n",
       "      <th>URL_Length</th>\n",
       "      <th>age_of_domain</th>\n",
       "      <th>having_IP_Address</th>\n",
       "      <th>Result</th>\n",
       "    </tr>\n",
       "  </thead>\n",
       "  <tbody>\n",
       "    <tr>\n",
       "      <th>0</th>\n",
       "      <td>1</td>\n",
       "      <td>-1</td>\n",
       "      <td>1</td>\n",
       "      <td>-1</td>\n",
       "      <td>-1</td>\n",
       "      <td>1</td>\n",
       "      <td>1</td>\n",
       "      <td>1</td>\n",
       "      <td>0</td>\n",
       "      <td>0</td>\n",
       "    </tr>\n",
       "    <tr>\n",
       "      <th>1</th>\n",
       "      <td>-1</td>\n",
       "      <td>-1</td>\n",
       "      <td>-1</td>\n",
       "      <td>-1</td>\n",
       "      <td>-1</td>\n",
       "      <td>0</td>\n",
       "      <td>1</td>\n",
       "      <td>1</td>\n",
       "      <td>1</td>\n",
       "      <td>1</td>\n",
       "    </tr>\n",
       "    <tr>\n",
       "      <th>2</th>\n",
       "      <td>1</td>\n",
       "      <td>-1</td>\n",
       "      <td>0</td>\n",
       "      <td>0</td>\n",
       "      <td>-1</td>\n",
       "      <td>0</td>\n",
       "      <td>-1</td>\n",
       "      <td>1</td>\n",
       "      <td>0</td>\n",
       "      <td>1</td>\n",
       "    </tr>\n",
       "    <tr>\n",
       "      <th>3</th>\n",
       "      <td>1</td>\n",
       "      <td>0</td>\n",
       "      <td>1</td>\n",
       "      <td>-1</td>\n",
       "      <td>-1</td>\n",
       "      <td>0</td>\n",
       "      <td>1</td>\n",
       "      <td>1</td>\n",
       "      <td>0</td>\n",
       "      <td>0</td>\n",
       "    </tr>\n",
       "    <tr>\n",
       "      <th>4</th>\n",
       "      <td>-1</td>\n",
       "      <td>-1</td>\n",
       "      <td>1</td>\n",
       "      <td>-1</td>\n",
       "      <td>0</td>\n",
       "      <td>0</td>\n",
       "      <td>-1</td>\n",
       "      <td>1</td>\n",
       "      <td>0</td>\n",
       "      <td>1</td>\n",
       "    </tr>\n",
       "    <tr>\n",
       "      <th>5</th>\n",
       "      <td>-1</td>\n",
       "      <td>-1</td>\n",
       "      <td>1</td>\n",
       "      <td>-1</td>\n",
       "      <td>-1</td>\n",
       "      <td>1</td>\n",
       "      <td>0</td>\n",
       "      <td>-1</td>\n",
       "      <td>0</td>\n",
       "      <td>1</td>\n",
       "    </tr>\n",
       "    <tr>\n",
       "      <th>6</th>\n",
       "      <td>1</td>\n",
       "      <td>-1</td>\n",
       "      <td>0</td>\n",
       "      <td>1</td>\n",
       "      <td>-1</td>\n",
       "      <td>0</td>\n",
       "      <td>0</td>\n",
       "      <td>1</td>\n",
       "      <td>0</td>\n",
       "      <td>-1</td>\n",
       "    </tr>\n",
       "    <tr>\n",
       "      <th>7</th>\n",
       "      <td>1</td>\n",
       "      <td>0</td>\n",
       "      <td>1</td>\n",
       "      <td>1</td>\n",
       "      <td>0</td>\n",
       "      <td>0</td>\n",
       "      <td>0</td>\n",
       "      <td>1</td>\n",
       "      <td>1</td>\n",
       "      <td>-1</td>\n",
       "    </tr>\n",
       "    <tr>\n",
       "      <th>8</th>\n",
       "      <td>-1</td>\n",
       "      <td>-1</td>\n",
       "      <td>0</td>\n",
       "      <td>-1</td>\n",
       "      <td>-1</td>\n",
       "      <td>-1</td>\n",
       "      <td>-1</td>\n",
       "      <td>1</td>\n",
       "      <td>0</td>\n",
       "      <td>0</td>\n",
       "    </tr>\n",
       "    <tr>\n",
       "      <th>9</th>\n",
       "      <td>-1</td>\n",
       "      <td>0</td>\n",
       "      <td>-1</td>\n",
       "      <td>-1</td>\n",
       "      <td>1</td>\n",
       "      <td>1</td>\n",
       "      <td>0</td>\n",
       "      <td>-1</td>\n",
       "      <td>0</td>\n",
       "      <td>1</td>\n",
       "    </tr>\n",
       "  </tbody>\n",
       "</table>\n",
       "</div>"
      ],
      "text/plain": [
       "   SFH  popUpWidnow  SSLfinal_State  Request_URL  URL_of_Anchor  web_traffic  \\\n",
       "0    1           -1               1           -1             -1            1   \n",
       "1   -1           -1              -1           -1             -1            0   \n",
       "2    1           -1               0            0             -1            0   \n",
       "3    1            0               1           -1             -1            0   \n",
       "4   -1           -1               1           -1              0            0   \n",
       "5   -1           -1               1           -1             -1            1   \n",
       "6    1           -1               0            1             -1            0   \n",
       "7    1            0               1            1              0            0   \n",
       "8   -1           -1               0           -1             -1           -1   \n",
       "9   -1            0              -1           -1              1            1   \n",
       "\n",
       "   URL_Length  age_of_domain  having_IP_Address  Result  \n",
       "0           1              1                  0       0  \n",
       "1           1              1                  1       1  \n",
       "2          -1              1                  0       1  \n",
       "3           1              1                  0       0  \n",
       "4          -1              1                  0       1  \n",
       "5           0             -1                  0       1  \n",
       "6           0              1                  0      -1  \n",
       "7           0              1                  1      -1  \n",
       "8          -1              1                  0       0  \n",
       "9           0             -1                  0       1  "
      ]
     },
     "execution_count": 6,
     "metadata": {},
     "output_type": "execute_result"
    }
   ],
   "source": [
    "# Converting the numpy array into Pandas data frame  and casting the coloumns to numeric type\n",
    "phising_data_frame = pd.DataFrame(phising_data_array).apply(pd.to_numeric)\n",
    "phising_data_frame[0:10]"
   ]
  },
  {
   "cell_type": "code",
   "execution_count": 7,
   "metadata": {},
   "outputs": [
    {
     "name": "stdout",
     "output_type": "stream",
     "text": [
      "Coloumn_names:SFH, popUpWidnow, SSLfinal_State, Request_URL, URL_of_Anchor, web_traffic, URL_Length, age_of_domain, having_IP_Address, Result\n",
      "[ 0  1  1 ...,  1  1 -1]\n"
     ]
    }
   ],
   "source": [
    "col_names = list(phising_data_frame)# Geeting Column names of the pandas data frame\n",
    "print(\"Coloumn_names:\" + \", \".join(col_names))\n",
    "# The scikit learn package takes data in form of labels and predictors\n",
    "# Extracting Result coloum to pass as target coloum\n",
    "labels = phising_data_frame[\"Result\"].values\n",
    "print(labels)"
   ]
  },
  {
   "cell_type": "code",
   "execution_count": 8,
   "metadata": {},
   "outputs": [
    {
     "name": "stdout",
     "output_type": "stream",
     "text": [
      "Predictor_Coloumns:SFH, popUpWidnow, SSLfinal_State, Request_URL, URL_of_Anchor, web_traffic, URL_Length, age_of_domain\n"
     ]
    },
    {
     "data": {
      "text/plain": [
       "array([[ 1, -1,  1, ...,  1,  1,  1],\n",
       "       [-1, -1, -1, ...,  0,  1,  1],\n",
       "       [ 1, -1,  0, ...,  0, -1,  1],\n",
       "       ..., \n",
       "       [-1,  0, -1, ...,  0, -1, -1],\n",
       "       [ 0,  0,  1, ...,  0, -1,  1],\n",
       "       [ 1,  0,  1, ...,  0, -1, -1]], dtype=int64)"
      ]
     },
     "execution_count": 8,
     "metadata": {},
     "output_type": "execute_result"
    }
   ],
   "source": [
    "predictor_cols = col_names[0:len(col_names)-2]# selecting the predictor column names\n",
    "print(\"Predictor_Coloumns:\" + \", \".join(predictor_cols))\n",
    "#extracting Predictor points \n",
    "predictors = phising_data_frame[predictor_cols].values\n",
    "predictors"
   ]
  },
  {
   "cell_type": "code",
   "execution_count": 9,
   "metadata": {
    "collapsed": true
   },
   "outputs": [],
   "source": [
    "# Defining The parameters in KNN Classifier\n",
    "clf_knn = KNeighborsClassifier(\n",
    "    n_neighbors=10,\n",
    "    weights='distance'\n",
    "    )\n",
    "clf_knn = clf_knn.fit(predictors,labels)"
   ]
  },
  {
   "cell_type": "code",
   "execution_count": 10,
   "metadata": {},
   "outputs": [
    {
     "name": "stdout",
     "output_type": "stream",
     "text": [
      "Cross Validation score : [ 0.84926471  0.88602941  0.88560886  0.89219331  0.89591078]\n",
      "Cross Validation Mean score : 0.881801412591\n"
     ]
    }
   ],
   "source": [
    "# Computing the Cross validation score with 5-fold cross validation\n",
    "score_knn = cross_val_score(clf_knn, predictors, labels, cv=5)\n",
    "print(\"Cross Validation score : \" + str(score_knn))\n",
    "print(\"Cross Validation Mean score : \" + str(score_knn.mean()))"
   ]
  },
  {
   "cell_type": "code",
   "execution_count": 11,
   "metadata": {},
   "outputs": [
    {
     "name": "stdout",
     "output_type": "stream",
     "text": [
      "Coloumn_names:SFH, popUpWidnow, SSLfinal_State, Request_URL, URL_of_Anchor, web_traffic, URL_Length, age_of_domain, having_IP_Address, Result\n",
      "[ 0  1  1 ...,  1  1 -1]\n",
      "Predictor_Coloumns:SFH, popUpWidnow, SSLfinal_State, Request_URL, URL_of_Anchor, web_traffic, URL_Length, age_of_domain\n",
      "[[ 1 -1  1 ...,  1  1  1]\n",
      " [-1 -1 -1 ...,  0  1  1]\n",
      " [ 1 -1  0 ...,  0 -1  1]\n",
      " ..., \n",
      " [-1  0 -1 ...,  0 -1 -1]\n",
      " [ 0  0  1 ...,  0 -1  1]\n",
      " [ 1  0  1 ...,  0 -1 -1]]\n",
      "             precision    recall  f1-score   support\n",
      "\n",
      "         -1       0.92      0.91      0.91       203\n",
      "          0       0.83      0.83      0.83        35\n",
      "          1       0.87      0.89      0.88       168\n",
      "\n",
      "avg / total       0.89      0.89      0.89       406\n",
      "\n"
     ]
    },
    {
     "data": {
      "text/plain": [
       "array([[184,   3,  16],\n",
       "       [  0,  29,   6],\n",
       "       [ 16,   3, 149]])"
      ]
     },
     "execution_count": 11,
     "metadata": {},
     "output_type": "execute_result"
    }
   ],
   "source": [
    "# Add-on\n",
    "# After finalizing the value of 'k' post Cross validation we can apply ML model as below.\n",
    "\n",
    "col_names_ml = list(phising_data_frame)# Geeting Column names of the pandas data frame\n",
    "print(\"Coloumn_names:\" + \", \".join(col_names_ml))\n",
    "# The scikit learn package takes data in form of labels and predictors\n",
    "# Extracting Result coloum to pass as target coloum\n",
    "labels_ml = phising_data_frame[\"Result\"].values\n",
    "print(labels_ml)\n",
    "\n",
    "\n",
    "\n",
    "predictor_cols_ml = col_names_ml[0:len(col_names_ml)-2]# selecting the predictor column names\n",
    "print(\"Predictor_Coloumns:\" + \", \".join(predictor_cols_ml))\n",
    "#extracting Predictor points \n",
    "predictors_ml = phising_data_frame[predictor_cols_ml].values\n",
    "print(predictors_ml)\n",
    "\n",
    "\n",
    "# split into train and test\n",
    "X_train, X_test, y_train, y_test = train_test_split(predictors_ml, labels_ml, test_size=0.3, random_state=42)\n",
    "\n",
    "# Defining The parameters in KNN Classifier\n",
    "clf_knn_ml = KNeighborsClassifier(n_neighbors=10,weights='distance')\n",
    "clf_knn_ml = clf_knn.fit(X_train,y_train)\n",
    "\n",
    "pred = clf_knn_ml.predict(X_test)\n",
    "target_names = ['-1','0', '1']\n",
    "print(classification_report(y_test,pred,target_names=target_names))\n",
    "confusion_matrix(y_test,pred)"
   ]
  },
  {
   "cell_type": "code",
   "execution_count": 12,
   "metadata": {},
   "outputs": [
    {
     "name": "stdout",
     "output_type": "stream",
     "text": [
      "0.891625615764\n"
     ]
    }
   ],
   "source": [
    "print(accuracy_score(y_test,pred))"
   ]
  }
 ],
 "metadata": {
  "kernelspec": {
   "display_name": "Python 3",
   "language": "python",
   "name": "python3"
  },
  "language_info": {
   "codemirror_mode": {
    "name": "ipython",
    "version": 3
   },
   "file_extension": ".py",
   "mimetype": "text/x-python",
   "name": "python",
   "nbconvert_exporter": "python",
   "pygments_lexer": "ipython3",
   "version": "3.6.5"
  }
 },
 "nbformat": 4,
 "nbformat_minor": 2
}
